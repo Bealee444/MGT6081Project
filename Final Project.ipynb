{
 "cells": [
  {
   "attachments": {},
   "cell_type": "markdown",
   "metadata": {},
   "source": [
    "### Derivatives Final Project_Team 2"
   ]
  },
  {
   "attachments": {},
   "cell_type": "markdown",
   "metadata": {},
   "source": [
    "For Excel we need the following:\n",
    "1. A sheet with portfolio weights (Ticker, Weight)\n",
    "2. One or more sheets with historical price data for the tickers (e.g. daily adjusted close prices over 1 year)"
   ]
  },
  {
   "cell_type": "code",
   "execution_count": null,
   "metadata": {},
   "outputs": [],
   "source": [
    "import pandas as pd\n",
    "import numpy as np\n",
    "\n",
    "# Load Excel file\n",
    "file_path = \"portfolio.xlsx\"\n",
    "portfolio_df = pd.read_excel(file_path, sheet_name='Portfolio')\n",
    "tickers = portfolio_df['Ticker'].tolist()\n",
    "weights = portfolio_df['Weight'].values\n",
    "weights /= weights.sum()\n",
    "\n",
    "# Load price data from each sheet into a single DataFrame\n",
    "price_data = pd.DataFrame()\n",
    "for ticker in tickers:\n",
    "    df = pd.read_excel(file_path, sheet_name=ticker)\n",
    "    df['Date'] = pd.to_datetime(df['Date'])\n",
    "    df.set_index('Date', inplace=True)\n",
    "    price_data[ticker] = df['Adj Close']\n",
    "\n",
    "# Calculate daily returns\n",
    "returns = price_data.pct_change().dropna()\n",
    "\n",
    "# Annualized stats\n",
    "mu = returns.mean() * 252\n",
    "cov = returns.cov() * 252\n",
    "\n",
    "print(\"Tickers:\", tickers)\n",
    "print(\"Weights:\", weights)\n",
    "print(\"Mean returns:\\n\", mu)"
   ]
  },
  {
   "cell_type": "code",
   "execution_count": null,
   "metadata": {},
   "outputs": [],
   "source": [
    "T = 1\n",
    "dt = 1/252\n",
    "N = 1000\n",
    "model_returns = {}\n",
    "\n",
    "for model in ['gbm', 'merton', 'cev', 'heston']:\n",
    "    sim_returns = []\n",
    "\n",
    "    for i, ticker in enumerate(tickers):\n",
    "        S0 = price_data[ticker].iloc[-1]\n",
    "        sigma_i = returns[ticker].std() * np.sqrt(252)\n",
    "        mu_i = mu[ticker]\n",
    "\n",
    "        if model == 'gbm':\n",
    "            path = simulate_gbm(S0, mu_i, sigma_i, T, dt, N)\n",
    "        elif model == 'merton':\n",
    "            path = simulate_merton(S0, mu_i, sigma_i, lamb=0.75, mu_j=-0.02, sigma_j=0.05, T=T, dt=dt, N=N)\n",
    "        elif model == 'cev':\n",
    "            path = simulate_cev(S0, mu_i, sigma_i, beta=0.8, T=T, dt=dt, N=N)\n",
    "        elif model == 'heston':\n",
    "            path = simulate_heston(S0, V0=sigma_i**2, mu=mu_i, kappa=2.0, theta=sigma_i**2, xi=0.1, rho=-0.7, T=T, dt=dt, N=N)\n",
    "\n",
    "        ret = (path[-1] - S0) / S0\n",
    "        sim_returns.append(ret)\n",
    "\n",
    "    sim_returns = np.array(sim_returns)\n",
    "    port_returns = np.dot(weights, sim_returns)\n",
    "    model_returns[model] = port_returns\n"
   ]
  },
  {
   "cell_type": "code",
   "execution_count": null,
   "metadata": {},
   "outputs": [],
   "source": [
    "import matplotlib.pyplot as plt\n",
    "\n",
    "plt.figure(figsize=(10,6))\n",
    "for model, returns in model_returns.items():\n",
    "    plt.hist(returns, bins=50, alpha=0.6, label=model)\n",
    "plt.legend()\n",
    "plt.title(\"Portfolio Simulated Returns by Model\")\n",
    "plt.xlabel(\"Return\")\n",
    "plt.ylabel(\"Frequency\")\n",
    "plt.grid(True)\n",
    "plt.show()"
   ]
  }
 ],
 "metadata": {
  "language_info": {
   "name": "python"
  },
  "orig_nbformat": 4
 },
 "nbformat": 4,
 "nbformat_minor": 2
}

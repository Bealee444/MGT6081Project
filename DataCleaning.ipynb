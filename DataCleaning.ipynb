{
 "cells": [
  {
   "cell_type": "code",
   "execution_count": 11,
   "id": "59f6534f",
   "metadata": {},
   "outputs": [],
   "source": [
    "import yfinance as yf\n",
    "import pandas as pd"
   ]
  },
  {
   "cell_type": "code",
   "execution_count": 10,
   "id": "96fc0613",
   "metadata": {},
   "outputs": [
    {
     "name": "stderr",
     "output_type": "stream",
     "text": [
      "[*********************100%***********************]  1 of 1 completed\n",
      "[*********************100%***********************]  1 of 1 completed\n",
      "[*********************100%***********************]  1 of 1 completed\n",
      "[*********************100%***********************]  1 of 1 completed\n",
      "[*********************100%***********************]  1 of 1 completed\n",
      "[*********************100%***********************]  1 of 1 completed\n",
      "[*********************100%***********************]  1 of 1 completed\n",
      "[*********************100%***********************]  1 of 1 completed\n",
      "[*********************100%***********************]  1 of 1 completed\n",
      "[*********************100%***********************]  1 of 1 completed\n"
     ]
    }
   ],
   "source": [
    "#Apple stock data\n",
    "ticker = \"AAPL\"  \n",
    "stock_data = yf.download(ticker, period=\"1y\")\n",
    "Apple = pd.DataFrame(stock_data)\n",
    "\n",
    "#Nvidia stock data\n",
    "ticker = \"NVDA\"  \n",
    "stock_data = yf.download(ticker, period=\"1y\")\n",
    "Nvidia = pd.DataFrame(stock_data)\n",
    "\n",
    "#UnitedHealth stock data\n",
    "ticker = \"UNH\"  \n",
    "stock_data = yf.download(ticker, period=\"1y\")\n",
    "UnitedHealth = pd.DataFrame(stock_data)\n",
    "\n",
    "#EliLilly stock data\n",
    "ticker = \"LLY\"  \n",
    "stock_data = yf.download(ticker, period=\"1y\")\n",
    "EliLilly = pd.DataFrame(stock_data)\n",
    "\n",
    "#JPMorgan stock data\n",
    "ticker = \"JPM\" \n",
    "stock_data = yf.download(ticker, period=\"1y\")\n",
    "JPMorgan = pd.DataFrame(stock_data)\n",
    "\n",
    "#Blackstone stock data\n",
    "ticker = \"BX\"\n",
    "stock_data = yf.download(ticker, period=\"1y\")\n",
    "Blackstone = pd.DataFrame(stock_data)\n",
    "\n",
    "#Costco stock data\n",
    "ticker = \"COST\"\n",
    "stock_data = yf.download(ticker, period=\"1y\")\n",
    "Costco = pd.DataFrame(stock_data)\n",
    "\n",
    "#Pepsico stock data\n",
    "ticker = \"PEP\"\n",
    "stock_data = yf.download(ticker, period=\"1y\")\n",
    "Pepsico = pd.DataFrame(stock_data)\n",
    "\n",
    "#ExxonMobil stock data\n",
    "ticker = \"XOM\"\n",
    "stock_data = yf.download(ticker, period=\"1y\")\n",
    "ExxonMobil = pd.DataFrame(stock_data)\n",
    "\n",
    "#Enphase Energy stock data\n",
    "ticker = \"ENPH\"\n",
    "stock_data = yf.download(ticker, period=\"1y\")\n",
    "EnphaseEnergy = pd.DataFrame(stock_data)"
   ]
  }
 ],
 "metadata": {
  "kernelspec": {
   "display_name": "myenv",
   "language": "python",
   "name": "python3"
  },
  "language_info": {
   "codemirror_mode": {
    "name": "ipython",
    "version": 3
   },
   "file_extension": ".py",
   "mimetype": "text/x-python",
   "name": "python",
   "nbconvert_exporter": "python",
   "pygments_lexer": "ipython3",
   "version": "3.9.21"
  }
 },
 "nbformat": 4,
 "nbformat_minor": 5
}
